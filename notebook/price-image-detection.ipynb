{
 "cells": [
  {
   "cell_type": "code",
   "execution_count": 1,
   "id": "d9eb3205",
   "metadata": {
    "execution": {
     "iopub.execute_input": "2025-02-05T20:31:25.183133Z",
     "iopub.status.busy": "2025-02-05T20:31:25.182612Z",
     "iopub.status.idle": "2025-02-05T20:31:38.067310Z",
     "shell.execute_reply": "2025-02-05T20:31:38.066144Z"
    },
    "papermill": {
     "duration": 12.891742,
     "end_time": "2025-02-05T20:31:38.068988",
     "exception": false,
     "start_time": "2025-02-05T20:31:25.177246",
     "status": "completed"
    },
    "tags": []
   },
   "outputs": [
    {
     "name": "stdout",
     "output_type": "stream",
     "text": [
      "Импортирование завершено\n"
     ]
    }
   ],
   "source": [
    "####1\n",
    "# импорт библиотек\n",
    "import os\n",
    "import cv2\n",
    "import easyocr\n",
    "import numpy as np\n",
    "import pandas as pd\n",
    "from tqdm import tqdm\n",
    "import torch\n",
    "import re\n",
    "import pytesseract\n",
    "from scipy.signal import wiener\n",
    "from skimage.restoration import richardson_lucy\n",
    "print(\"Импортирование завершено\")\n",
    "\n",
    "# пути к данным\n",
    "DATA_PATH = '/kaggle/input/price-img-dataset'\n",
    "\n",
    "IMG_FOLDER = os.path.join(DATA_PATH, 'imgs-20250131T163534Z-001', 'imgs')\n",
    "TEST_CSV = os.path.join(DATA_PATH, 'test.csv')\n",
    "\n",
    "# этот файл был создан путём ручной проверки какждого изображения, все значения данного файла истинные - \n",
    "# по нему и определим работоспособность модел\n",
    "TRUE_TEST_CSV = os.path.join(DATA_PATH, 'true_test_predictions.csv')  # содержит столбцы: img_name и true_price\n",
    "\n",
    "\n",
    "# Для проверки работы на валидации\n",
    "#VAL_CSV = os.path.join(DATA_PATH, 'val.csv')\n",
    "#TRUE_VAL_CSV = os.path.join(DATA_PATH, 'true_val_predictions.csv')\n",
    "\n",
    "# Для проверки работы на трейне\n",
    "#TRAIN_CSV = os.path.join(DATA_PATH, 'train.csv')\n",
    "#TRUE_VAL_CSV = os.path.join(DATA_PATH, 'train_val_predictions.csv')\n"
   ]
  },
  {
   "cell_type": "markdown",
   "id": "63d99e69",
   "metadata": {
    "papermill": {
     "duration": 0.003072,
     "end_time": "2025-02-05T20:31:38.075889",
     "exception": false,
     "start_time": "2025-02-05T20:31:38.072817",
     "status": "completed"
    },
    "tags": []
   },
   "source": [
    "### Почему выбраны EasyOCR и Tesseract вместо моделей на базе ResNet\n",
    "\n",
    "Протестировал различные подходы для распознавания цены на изображениях. Подход с регрессионными моделями (например, на базе ResNet) показал низкую точность, поскольку извлечение числовых значений напрямую из изображений оказалось сложной задачей. Поэтому перешёл к использованию готовых OCR-движков – EasyOCR и Tesseract, которые специализированы на распознавании текста и, особенно, цифр, что позволяет добиться значительно лучших результатов."
   ]
  },
  {
   "cell_type": "code",
   "execution_count": 2,
   "id": "2b93a05f",
   "metadata": {
    "execution": {
     "iopub.execute_input": "2025-02-05T20:31:38.084030Z",
     "iopub.status.busy": "2025-02-05T20:31:38.083441Z",
     "iopub.status.idle": "2025-02-05T20:31:38.090478Z",
     "shell.execute_reply": "2025-02-05T20:31:38.089471Z"
    },
    "papermill": {
     "duration": 0.012933,
     "end_time": "2025-02-05T20:31:38.092160",
     "exception": false,
     "start_time": "2025-02-05T20:31:38.079227",
     "status": "completed"
    },
    "tags": []
   },
   "outputs": [],
   "source": [
    "####2\n",
    "# повышаем контрастность (CLAHE) с морфологической обработкой\n",
    "def enhance_contrast(image):\n",
    "    # приводим изображение к grayscale\n",
    "    if len(image.shape) == 3 and image.shape[2] == 3:\n",
    "        gray = cv2.cvtColor(image, cv2.COLOR_BGR2GRAY)\n",
    "    else:\n",
    "        gray = image\n",
    "    clahe = cv2.createCLAHE(clipLimit=2.0, tileGridSize=(8,8))\n",
    "    enhanced = clahe.apply(gray)\n",
    "    # морфологическая обработка\n",
    "    kernel = cv2.getStructuringElement(cv2.MORPH_RECT, (3,3))\n",
    "    closed = cv2.morphologyEx(enhanced, cv2.MORPH_CLOSE, kernel)\n",
    "    return closed\n",
    "\n",
    "# доп предобработка -  (1) увеличение, (2) медианный фильтр и (3) адаптивная бинаризация\n",
    "def preprocess_for_ocr(image):\n",
    "    gray = cv2.cvtColor(image, cv2.COLOR_BGR2GRAY)\n",
    "    \n",
    "    # (1) увеличение\n",
    "    resized = cv2.resize(gray, None, fx=2, fy=2, interpolation=cv2.INTER_CUBIC)\n",
    "    # (2) медианный фильтр \n",
    "    blurred = cv2.medianBlur(resized, 3)\n",
    "    # (3) адаптивная бинаризация\n",
    "    adaptive = cv2.adaptiveThreshold(blurred, 255, cv2.ADAPTIVE_THRESH_GAUSSIAN_C, \n",
    "                                     cv2.THRESH_BINARY, 11, 2)\n",
    "    return adaptive"
   ]
  },
  {
   "cell_type": "code",
   "execution_count": 3,
   "id": "d2fc92f1",
   "metadata": {
    "execution": {
     "iopub.execute_input": "2025-02-05T20:31:38.100599Z",
     "iopub.status.busy": "2025-02-05T20:31:38.100226Z",
     "iopub.status.idle": "2025-02-05T20:31:38.107954Z",
     "shell.execute_reply": "2025-02-05T20:31:38.106848Z"
    },
    "papermill": {
     "duration": 0.01358,
     "end_time": "2025-02-05T20:31:38.109491",
     "exception": false,
     "start_time": "2025-02-05T20:31:38.095911",
     "status": "completed"
    },
    "tags": []
   },
   "outputs": [],
   "source": [
    "# Функция Unsharp Masking\n",
    "def unsharp_mask(image, kernel_size=(5,5), sigma=1.0, amount=1.0, threshold=0):\n",
    "    # Применяем гауссово размытие\n",
    "    blurred = cv2.GaussianBlur(image, kernel_size, sigma)\n",
    "    # Вычисляем маску резкости\n",
    "    sharpened = float(amount + 1) * image - float(amount) * blurred\n",
    "    sharpened = np.maximum(sharpened, np.zeros(sharpened.shape))\n",
    "    sharpened = np.minimum(sharpened, 255 * np.ones(sharpened.shape))\n",
    "    sharpened = sharpened.round().astype(np.uint8)\n",
    "    if threshold > 0:\n",
    "        low_contrast_mask = np.absolute(image - blurred) < threshold\n",
    "        np.copyto(sharpened, image, where=low_contrast_mask)\n",
    "    return sharpened\n",
    "\n",
    "# Функция для коррекции гаммы (gamma correction)\n",
    "def adjust_gamma(image, gamma=1.5):\n",
    "    invGamma = 1.0 / gamma\n",
    "    table = np.array([((i / 255.0) ** invGamma) * 255 for i in np.arange(0, 256)]).astype(\"uint8\")\n",
    "    return cv2.LUT(image, table)\n",
    "\n",
    "# Функция применения билинейного фильтра для сглаживания с сохранением краев\n",
    "def apply_bilateral_filter(image):\n",
    "    return cv2.bilateralFilter(image, d=9, sigmaColor=75, sigmaSpace=75)\n"
   ]
  },
  {
   "cell_type": "code",
   "execution_count": 4,
   "id": "090ef28a",
   "metadata": {
    "execution": {
     "iopub.execute_input": "2025-02-05T20:31:38.117850Z",
     "iopub.status.busy": "2025-02-05T20:31:38.117449Z",
     "iopub.status.idle": "2025-02-05T20:31:41.807610Z",
     "shell.execute_reply": "2025-02-05T20:31:41.806452Z"
    },
    "papermill": {
     "duration": 3.696695,
     "end_time": "2025-02-05T20:31:41.809817",
     "exception": false,
     "start_time": "2025-02-05T20:31:38.113122",
     "status": "completed"
    },
    "tags": []
   },
   "outputs": [],
   "source": [
    "####3\n",
    "# функция для поворота изображения на заданный угол\n",
    "def rotate_image(image, angle):\n",
    "    (h, w) = image.shape[:2]\n",
    "    center = (w // 2, h // 2)\n",
    "    M = cv2.getRotationMatrix2D(center, angle, 1.0)\n",
    "    rotated = cv2.warpAffine(image, M, (w, h), flags=cv2.INTER_CUBIC, borderMode=cv2.BORDER_REPLICATE)\n",
    "    return rotated\n",
    "\n",
    "# функция очистки от типичных ошибок OCR\n",
    "def clean_candidate(candidate):\n",
    "    #candidate = candidate.replace('O', '0').replace('o', '0')\n",
    "    #candidate = candidate.replace('l', '1').replace('I', '1')\n",
    "    #candidate = candidate.strip()\n",
    "    return candidate\n",
    "    \n",
    "reader = easyocr.Reader(['en'], gpu=torch.cuda.is_available())"
   ]
  },
  {
   "cell_type": "code",
   "execution_count": 5,
   "id": "384dade7",
   "metadata": {
    "execution": {
     "iopub.execute_input": "2025-02-05T20:31:41.820461Z",
     "iopub.status.busy": "2025-02-05T20:31:41.820060Z",
     "iopub.status.idle": "2025-02-05T20:31:41.827060Z",
     "shell.execute_reply": "2025-02-05T20:31:41.825843Z"
    },
    "papermill": {
     "duration": 0.014516,
     "end_time": "2025-02-05T20:31:41.829025",
     "exception": false,
     "start_time": "2025-02-05T20:31:41.814509",
     "status": "completed"
    },
    "tags": []
   },
   "outputs": [],
   "source": [
    "###4\n",
    "# получаем кандидатов с помощью EasyOCR\n",
    "def get_candidates_easyocr(image, confidence_threshold):\n",
    "    candidates = []\n",
    "    results = reader.readtext(image)\n",
    "    texts = [res[1] for res in results if res[2] > confidence_threshold]\n",
    "    combined_text = \"\".join(texts)\n",
    "    digits_found = re.findall(r'\\d+', combined_text)\n",
    "    for digits in digits_found:\n",
    "        cleaned = clean_candidate(digits)\n",
    "        candidates.append(cleaned)\n",
    "    return candidates\n",
    "\n",
    "# получаем кандидатов с помощью Tesseract OCR\n",
    "def get_candidates_tesseract(image):\n",
    "\n",
    "    if len(image.shape) == 3 and image.shape[2] == 3:\n",
    "        gray = cv2.cvtColor(image, cv2.COLOR_BGR2GRAY)\n",
    "    else:\n",
    "        gray = image\n",
    "        \n",
    "    # gрименяем Tesseract\n",
    "    config = '--psm 6'  \n",
    "    text = pytesseract.image_to_string(gray, config=config)\n",
    "\n",
    "    candidates = re.findall(r'\\d+', text)\n",
    "\n",
    "    candidates = [clean_candidate(cand) for cand in candidates]\n",
    "    return candidates"
   ]
  },
  {
   "cell_type": "code",
   "execution_count": 6,
   "id": "512e9992",
   "metadata": {
    "execution": {
     "iopub.execute_input": "2025-02-05T20:31:41.837672Z",
     "iopub.status.busy": "2025-02-05T20:31:41.837317Z",
     "iopub.status.idle": "2025-02-05T20:31:41.846237Z",
     "shell.execute_reply": "2025-02-05T20:31:41.845227Z"
    },
    "papermill": {
     "duration": 0.015215,
     "end_time": "2025-02-05T20:31:41.847994",
     "exception": false,
     "start_time": "2025-02-05T20:31:41.832779",
     "status": "completed"
    },
    "tags": []
   },
   "outputs": [],
   "source": [
    "def correct_perspective(image):\n",
    "    gray = cv2.cvtColor(image, cv2.COLOR_BGR2GRAY)\n",
    "    edges = cv2.Canny(gray, 50, 150)\n",
    "    \n",
    "    contours, _ = cv2.findContours(edges, cv2.RETR_EXTERNAL, cv2.CHAIN_APPROX_SIMPLE)\n",
    "    contours = sorted(contours, key=cv2.contourArea, reverse=True)\n",
    "\n",
    "    if not contours:\n",
    "        return image  # Если контуры не найдены, возвращаем исходное изображение\n",
    "\n",
    "    approx = cv2.approxPolyDP(contours[0], 0.02 * cv2.arcLength(contours[0], True), True)\n",
    "\n",
    "    if len(approx) == 4:  # Если найдено 4 точки (прямоугольник)\n",
    "        pts_src = np.float32([point[0] for point in approx])\n",
    "        pts_dst = np.float32([[0, 0], [image.shape[1], 0], [image.shape[1], image.shape[0]], [0, image.shape[0]]])\n",
    "        matrix = cv2.getPerspectiveTransform(pts_src, pts_dst)\n",
    "        corrected = cv2.warpPerspective(image, matrix, (image.shape[1], image.shape[0]))\n",
    "        return corrected\n",
    "    return image  # Если не удалось скорректировать, возвращаем оригинал\n",
    "\n",
    "def wiener_deblur(image):\n",
    "    gray = cv2.cvtColor(image, cv2.COLOR_BGR2GRAY)\n",
    "    deblurred = wiener(gray, (5, 5))  # 5x5 — размер ядра для Винера\n",
    "    return cv2.cvtColor(np.uint8(deblurred), cv2.COLOR_GRAY2BGR)\n",
    "\n",
    "def richardson_lucy_deblur(image, iterations=10):\n",
    "    gray = cv2.cvtColor(image, cv2.COLOR_BGR2GRAY)\n",
    "    psf = np.ones((5, 5)) / 25  # Оценка функции рассеяния точки (PSF)\n",
    "    deblurred = richardson_lucy(gray, psf, iterations)\n",
    "    return cv2.cvtColor(np.uint8(deblurred * 255), cv2.COLOR_GRAY2BGR)\n"
   ]
  },
  {
   "cell_type": "markdown",
   "id": "8ffef873",
   "metadata": {
    "papermill": {
     "duration": 0.003349,
     "end_time": "2025-02-05T20:31:41.855155",
     "exception": false,
     "start_time": "2025-02-05T20:31:41.851806",
     "status": "completed"
    },
    "tags": []
   },
   "source": [
    "### Ансамблирование результатов OCR\n",
    "\n",
    "Для повышения точности использую ансамбль двух OCR-систем – EasyOCR и Tesseract. Для каждого варианта предобработки изображения (например, CLAHE с морфологической обработкой, дополнительные методы предобработки, повороты) извлекаются кандидаты на числовое значение. Затем объединяем их и выбираем тот, который встречается с наибольшей \"весовой\" оценкой (суммарная уверенность), что позволяет компенсировать систематические ошибки отдельных моделей."
   ]
  },
  {
   "cell_type": "code",
   "execution_count": 7,
   "id": "a0194804",
   "metadata": {
    "execution": {
     "iopub.execute_input": "2025-02-05T20:31:41.863886Z",
     "iopub.status.busy": "2025-02-05T20:31:41.863463Z",
     "iopub.status.idle": "2025-02-05T20:31:41.878528Z",
     "shell.execute_reply": "2025-02-05T20:31:41.877511Z"
    },
    "papermill": {
     "duration": 0.021603,
     "end_time": "2025-02-05T20:31:41.880470",
     "exception": false,
     "start_time": "2025-02-05T20:31:41.858867",
     "status": "completed"
    },
    "tags": []
   },
   "outputs": [],
   "source": [
    "###5\n",
    "# predict функция\n",
    "def predict_price_ocr(img_path, confidence_threshold=0.4):\n",
    "    \"\"\"\n",
    "    Функция пытается распознать цену с изображения, используя ансамбль из EasyOCR и Tesseract.\n",
    "    Варианты предобработки:\n",
    "      1. Оригинальное изображение.\n",
    "      2. CLAHE + морфология.\n",
    "      3. Дополнительная предобработка (увеличение, медианный фильтр, адаптивная бинаризация).\n",
    "      4. Повороты CLAHE-обработанного изображения на ±5°, ±10°, ±15°, ±35°.\n",
    "      5. Unsharp Masking.\n",
    "      6. Gamma Correction.\n",
    "      7. Bilateral Filter.\n",
    "      8. Коррекция перспективы.\n",
    "      9. Восстановление размытия (фильтр Винера).\n",
    "      10. Восстановление размытия (Richardson-Lucy).\n",
    "    Полученные кандидаты объединяются, и выбирается тот, который встречается с наибольшей частотой\n",
    "    (при равенстве – выбирается самый длинный). Если кандидаты не получены, возвращается None.\n",
    "    \"\"\"\n",
    "    image = cv2.imread(img_path)\n",
    "    if image is None:\n",
    "        raise ValueError(f\"Не удалось загрузить изображение: {img_path}\")\n",
    "    \n",
    "    variants = []\n",
    "    # (1) оригинальное изображение\n",
    "    variants.append(image)\n",
    "\n",
    "    # (2) CLAHE + морфология\n",
    "    variant1 = enhance_contrast(image)\n",
    "    variants.append(variant1)\n",
    "\n",
    "    # (3) дополнительная предобработка\n",
    "    variants.append(preprocess_for_ocr(image))\n",
    "    \n",
    "    # (4) с поворотами CLAHE\n",
    "    variants.append(rotate_image(variant1, 5))\n",
    "    variants.append(rotate_image(variant1, -5))\n",
    "    variants.append(rotate_image(variant1, 10))\n",
    "    variants.append(rotate_image(variant1, -10))\n",
    "    variants.append(rotate_image(variant1, 15))\n",
    "    variants.append(rotate_image(variant1, -15))\n",
    "    # (5) вариант с Unsharp Masking\n",
    "    def unsharp_mask(image, kernel_size=(5,5), sigma=1.0, amount=1.0, threshold=0):\n",
    "        blurred = cv2.GaussianBlur(image, kernel_size, sigma)\n",
    "        sharpened = float(amount + 1) * image - float(amount) * blurred\n",
    "        sharpened = np.maximum(sharpened, np.zeros(sharpened.shape))\n",
    "        sharpened = np.minimum(sharpened, 255 * np.ones(sharpened.shape))\n",
    "        sharpened = sharpened.round().astype(np.uint8)\n",
    "        if threshold > 0:\n",
    "            low_contrast_mask = np.absolute(image - blurred) < threshold\n",
    "            np.copyto(sharpened, image, where=low_contrast_mask)\n",
    "        return sharpened\n",
    "    unsharp = unsharp_mask(image)\n",
    "    variants.append(unsharp)\n",
    "    # (6) вариант с Gamma Correction\n",
    "    def adjust_gamma(image, gamma=1.5):\n",
    "        invGamma = 1.0 / gamma\n",
    "        table = np.array([((i / 255.0) ** invGamma) * 255 for i in np.arange(0, 256)]).astype(\"uint8\")\n",
    "        return cv2.LUT(image, table)\n",
    "    gamma_corrected = adjust_gamma(image, gamma=1.5)\n",
    "    variants.append(gamma_corrected)\n",
    "    # (7) вариант с Bilateral Filter (сглаживание с сохранением краев)\n",
    "    bilateral = cv2.bilateralFilter(image, d=9, sigmaColor=75, sigmaSpace=75)\n",
    "    variants.append(bilateral)\n",
    "    # (8) Коррекция перспективы\n",
    "    perspective_corrected = correct_perspective(image)\n",
    "    #variants.append(perspective_corrected)\n",
    "\n",
    "    # (9) Восстановление размытия (фильтр Винера)\n",
    "    wiener_restored = wiener_deblur(image)\n",
    "    variants.append(wiener_restored)\n",
    "\n",
    "    # (10) Восстановление размытия (метод Richardson-Lucy)\n",
    "    richardson_lucy_restored = richardson_lucy_deblur(image)\n",
    "    variants.append(richardson_lucy_restored)\n",
    "\n",
    "    all_candidates = []\n",
    "    \n",
    "    for variant in variants:\n",
    "        # Получаем кандидатов от EasyOCR\n",
    "        candidates_e = get_candidates_easyocr(variant, confidence_threshold)\n",
    "        all_candidates.extend(candidates_e)\n",
    "        # Получаем кандидатов от Tesseract\n",
    "        candidates_t = get_candidates_tesseract(variant)\n",
    "        all_candidates.extend(candidates_t)\n",
    "    \n",
    "    if not all_candidates:\n",
    "        return None\n",
    "    \n",
    "    # Подсчитываем частоту каждого кандидата\n",
    "    freq = {}\n",
    "    for cand in all_candidates:\n",
    "        # Можно ограничить длину кандидата, если известно, что цена состоит из 2-4 цифр\n",
    "        if len(cand) < 2 or len(cand) > 4:\n",
    "            continue\n",
    "        freq[cand] = freq.get(cand, 0) + 1\n",
    "\n",
    "    if not freq:\n",
    "        return None\n",
    "    \n",
    "    best_candidate = None\n",
    "    best_freq = 0\n",
    "    for cand, count in freq.items():\n",
    "        if count > best_freq or (count == best_freq and (best_candidate is None or len(cand) > len(best_candidate))):\n",
    "            best_candidate = cand\n",
    "            best_freq = count\n",
    "\n",
    "    if best_candidate is None or best_candidate == \"\":\n",
    "        return None\n",
    "    return int(best_candidate)\n"
   ]
  },
  {
   "cell_type": "code",
   "execution_count": 8,
   "id": "7c04cc98",
   "metadata": {
    "execution": {
     "iopub.execute_input": "2025-02-05T20:31:41.889752Z",
     "iopub.status.busy": "2025-02-05T20:31:41.889284Z",
     "iopub.status.idle": "2025-02-05T20:31:41.893852Z",
     "shell.execute_reply": "2025-02-05T20:31:41.892594Z"
    },
    "papermill": {
     "duration": 0.011205,
     "end_time": "2025-02-05T20:31:41.895730",
     "exception": false,
     "start_time": "2025-02-05T20:31:41.884525",
     "status": "completed"
    },
    "tags": []
   },
   "outputs": [],
   "source": [
    "####5.5 предсказания на валидационном (трейн) наборе (занимает ~ 40 минут)\n",
    "#val_df = pd.read_csv(TRAIN_CSV)   #train_df = pd.read_csv(TRAIN_CSV) - заменить при проверки на трейн датасете (далее тоже самое)\n",
    "#predicted_prices = []\n",
    "\n",
    "#for img_name in tqdm(val_df['img_name'], desc=\"Predicting VAL set with OCR\"):\n",
    "#    img_path = os.path.join(IMG_FOLDER, img_name)\n",
    "#    price = predict_price_ocr(img_path, confidence_threshold=0.35)\n",
    "#    if price is None:\n",
    "#        price = '0'\n",
    "#    predicted_prices.append(price)\n",
    "\n",
    "#pred_df = val_df[['img_name']].copy() # pred_df = train_df[['img_name']].copy()\n",
    "#pred_df['predicted_price'] = predicted_prices\n",
    "#pred_df.to_csv(\"val_predictions_ocr.csv\", index=False) # pred_df.to_csv(\"train_predictions_ocr.csv\", index=False) \n",
    "\n",
    "#### Сравнение с истинными значениями VAL/TRAIN набора\n",
    "\n",
    "#merged = val_df.merge(pred_df, on='img_name', how='left') # merged = train_df.merge(pred_df, on='img_name', how='left')\n",
    "#merged.to_csv(\"val_predictions_with_true_ocr.csv\", index=False) # merged.to_csv(\"train_predictions_with_true_ocr.csv\", index=False)\n",
    "\n",
    "#merged['correct'] = merged.apply(lambda row: (row['predicted_price'] != '0') and (row['text'] == row['text']), axis=1)\n",
    "#num_correct = merged['correct'].sum()\n",
    "#num_total = len(merged)\n",
    "#num_incorrect = num_total - num_correct\n",
    "#print(f\"Верных ответов: {num_correct}, Неверных ответов: {num_incorrect}\")\n",
    "#Лучший результат: \"Верных ответов: 932, Неверных ответов : 68\" на  - на валидации\n",
    "#Лучший результат: \"Верных ответов: 4916, Неверных ответов : 36\" на  - на трейне"
   ]
  },
  {
   "cell_type": "code",
   "execution_count": 9,
   "id": "42eba562",
   "metadata": {
    "execution": {
     "iopub.execute_input": "2025-02-05T20:31:41.904408Z",
     "iopub.status.busy": "2025-02-05T20:31:41.904023Z",
     "iopub.status.idle": "2025-02-05T20:52:41.503880Z",
     "shell.execute_reply": "2025-02-05T20:52:41.502807Z"
    },
    "papermill": {
     "duration": 1259.609963,
     "end_time": "2025-02-05T20:52:41.509446",
     "exception": false,
     "start_time": "2025-02-05T20:31:41.899483",
     "status": "completed"
    },
    "tags": []
   },
   "outputs": [
    {
     "name": "stderr",
     "output_type": "stream",
     "text": [
      "Predicting test set with OCR:  95%|█████████▌| 227/238 [19:56<00:54,  4.91s/it]/usr/local/lib/python3.10/dist-packages/scipy/signal/_signaltools.py:1659: RuntimeWarning: divide by zero encountered in divide\n",
      "  res *= (1 - noise / lVar)\n",
      "/usr/local/lib/python3.10/dist-packages/scipy/signal/_signaltools.py:1659: RuntimeWarning: invalid value encountered in multiply\n",
      "  res *= (1 - noise / lVar)\n",
      "<ipython-input-6-b3ea9716a713>:24: RuntimeWarning: invalid value encountered in cast\n",
      "  return cv2.cvtColor(np.uint8(deblurred), cv2.COLOR_GRAY2BGR)\n",
      "Predicting test set with OCR: 100%|██████████| 238/238 [20:59<00:00,  5.29s/it]\n"
     ]
    }
   ],
   "source": [
    "###6\n",
    "# предсказание на тестовом наборе с использованием OCR (занимает ~ 20 минут на CPU)\n",
    "test_df = pd.read_csv(TEST_CSV)\n",
    "predicted_prices = []\n",
    "unknown_images = []  # список изображений, для которых не удалось распознать число\n",
    "\n",
    "for img_name in tqdm(test_df['img_name'], desc=\"Predicting test set with OCR\"):\n",
    "    img_path = os.path.join(IMG_FOLDER, img_name)\n",
    "    price = predict_price_ocr(img_path, confidence_threshold=0.35)\n",
    "    if price is None:\n",
    "        price = '0'\n",
    "        unknown_images.append(img_name)\n",
    "    predicted_prices.append(f\"{float(price):.1f}\")\n",
    "\n",
    "test_df['predicted_price'] = predicted_prices\n",
    "test_df['predicted_price'] = test_df['predicted_price'].astype(float)\n",
    "test_df.to_csv(\"submission.csv\", index=False)\n"
   ]
  },
  {
   "cell_type": "code",
   "execution_count": 10,
   "id": "2a27d408",
   "metadata": {
    "execution": {
     "iopub.execute_input": "2025-02-05T20:52:41.544223Z",
     "iopub.status.busy": "2025-02-05T20:52:41.543830Z",
     "iopub.status.idle": "2025-02-05T20:52:41.588055Z",
     "shell.execute_reply": "2025-02-05T20:52:41.586823Z"
    },
    "papermill": {
     "duration": 0.063302,
     "end_time": "2025-02-05T20:52:41.589714",
     "exception": false,
     "start_time": "2025-02-05T20:52:41.526412",
     "status": "completed"
    },
    "tags": []
   },
   "outputs": [
    {
     "name": "stdout",
     "output_type": "stream",
     "text": [
      "Верных ответов: 230, Неверных ответов: 8\n",
      "Изображения, для которых модель не смогла предсказать цену:\n",
      "510883758_2.jpg\n",
      "510880074_2.jpg\n",
      "481897095_2.jpg\n",
      "483319459_2.jpg\n",
      "508780913_2.jpg\n",
      "508757462_2.jpg\n",
      "510885952_2.jpg\n",
      "481896944_2.jpg\n"
     ]
    }
   ],
   "source": [
    "###7\n",
    "# сравнение с истинными значениями\n",
    "true_test_df = pd.read_csv(TRUE_TEST_CSV)  \n",
    "merged = true_test_df.merge(test_df, on='img_name', how='left')\n",
    "merged['true_price'] = merged['true_price'].astype(float)\n",
    "merged['predicted_price'] = merged['predicted_price'].astype(float)\n",
    "merged.to_csv(\"test_predictions_with_true_ocr.csv\", index=False)\n",
    "\n",
    "# ответ считается верным, если predicted_price точно совпадает с true_price\n",
    "merged['correct'] = merged.apply(lambda row: (row['predicted_price'] != '0') and (row['true_price'] == row['predicted_price']), axis=1)\n",
    "num_correct = merged['correct'].sum()\n",
    "num_total = len(merged)\n",
    "num_incorrect = num_total - num_correct\n",
    "\n",
    "# Формируем список изображений, для которых модель не смогла предсказать цену корректно или предсказала 0\n",
    "error_images = merged[(merged['predicted_price'] == \"0\") | (~merged['correct'])]['img_name'].tolist()\n",
    "\n",
    "print(f\"Верных ответов: {num_correct}, Неверных ответов: {num_incorrect}\")\n",
    "#Лучший результат: \"Верных ответов: 230, Неверных ответов: 8\" на CPU\n",
    "\n",
    "print(\"Изображения, для которых модель не смогла предсказать цену:\")\n",
    "for img in error_images:\n",
    "    print(img)"
   ]
  }
 ],
 "metadata": {
  "kaggle": {
   "accelerator": "none",
   "dataSources": [
    {
     "datasetId": 6593128,
     "sourceId": 10672866,
     "sourceType": "datasetVersion"
    }
   ],
   "dockerImageVersionId": 30839,
   "isGpuEnabled": false,
   "isInternetEnabled": true,
   "language": "python",
   "sourceType": "notebook"
  },
  "kernelspec": {
   "display_name": "Python 3",
   "language": "python",
   "name": "python3"
  },
  "language_info": {
   "codemirror_mode": {
    "name": "ipython",
    "version": 3
   },
   "file_extension": ".py",
   "mimetype": "text/x-python",
   "name": "python",
   "nbconvert_exporter": "python",
   "pygments_lexer": "ipython3",
   "version": "3.10.12"
  },
  "papermill": {
   "default_parameters": {},
   "duration": 1281.375757,
   "end_time": "2025-02-05T20:52:43.732864",
   "environment_variables": {},
   "exception": null,
   "input_path": "__notebook__.ipynb",
   "output_path": "__notebook__.ipynb",
   "parameters": {},
   "start_time": "2025-02-05T20:31:22.357107",
   "version": "2.6.0"
  }
 },
 "nbformat": 4,
 "nbformat_minor": 5
}
